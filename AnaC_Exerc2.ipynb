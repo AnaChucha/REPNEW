{
 "cells": [
  {
   "cell_type": "code",
   "execution_count": null,
   "metadata": {
    "collapsed": true
   },
   "outputs": [],
   "source": [
    "def donuts (count):\n",
    "    if count < 10:\n",
    "        return 'Number of donuts: ' + str(count)\n",
    "    else:\n",
    "        return 'Number of donuts: many'"
   ]
  },
  {
   "cell_type": "code",
   "execution_count": null,
   "metadata": {
    "collapsed": true
   },
   "outputs": [],
   "source": [
    "def both_ends(s):\n",
    "    if len(s) <2:\n",
    "        return ''\n",
    "    first2 = s[0:2]\n",
    "    last2 = s[-2:]\n",
    "    return first2 + last2"
   ]
  },
  {
   "cell_type": "code",
   "execution_count": null,
   "metadata": {
    "collapsed": true
   },
   "outputs": [],
   "source": [
    "def fix_start(s):\n",
    "    front = s[0]\n",
    "    back = s[1:]\n",
    "    fixed_back = back.replace(front,'*')\n",
    "    return front + fixed_back"
   ]
  },
  {
   "cell_type": "code",
   "execution_count": null,
   "metadata": {
    "collapsed": true
   },
   "outputs": [],
   "source": [
    "def mix_up(a,b):\n",
    "    a_swapped = b[:2] + a[2:]\n",
    "    b_swapped = a[:2] + b[2:]\n",
    "    return a_swapped + ' ' + b_swapped\n",
    "    "
   ]
  },
  {
   "cell_type": "code",
   "execution_count": 6,
   "metadata": {
    "collapsed": false
   },
   "outputs": [],
   "source": [
    "def test(got, expected):\n",
    "    prefix = 'OK' if got == expected else ' X'\n",
    "    # !r prints a Python representation of the strings (complete with quotes)\n",
    "    print (' {} got: {!r} expected: {!r}'.format(prefix, got, expected))\n",
    " "
   ]
  },
  {
   "cell_type": "code",
   "execution_count": null,
   "metadata": {
    "collapsed": true
   },
   "outputs": [],
   "source": [
    "def main():\n",
    "    print ('donuts')\n",
    "    test(donuts(4), 'Number of donuts: 4')\n",
    "    test(donuts(9), 'Number of donuts: 9')\n",
    "    test(donuts(10), 'Number of donuts: many')\n",
    "    test(donuts(99), 'Number of donuts: many')\n",
    "\n",
    "    print\n",
    "    print ('both_ends')\n",
    "    test(both_ends('spring'), 'spng')\n",
    "    test(both_ends('Hello'), 'Helo')\n",
    "    test(both_ends('a'), '')\n",
    "    test(both_ends('xyz'), 'xyyz')\n",
    "  \n",
    "    print\n",
    "    print ('fix_start')\n",
    "    test(fix_start('babble'), 'ba**le')\n",
    "    test(fix_start('aardvark'), 'a*rdv*rk')\n",
    "    test(fix_start('google'), 'goo*le')\n",
    "    test(fix_start('donut'), 'donut')\n",
    "\n",
    "    print\n",
    "    print ('mix_up')\n",
    "    test(mix_up('mix', 'pod'), 'pox mid')\n",
    "    test(mix_up('dog', 'dinner'), 'dig donner')\n",
    "    test(mix_up('gnash', 'sport'), 'spash gnort')\n",
    "    test(mix_up('pezzy', 'firm'), 'fizzy perm')\n"
   ]
  },
  {
   "cell_type": "code",
   "execution_count": null,
   "metadata": {
    "collapsed": false
   },
   "outputs": [],
   "source": [
    "main()"
   ]
  },
  {
   "cell_type": "code",
   "execution_count": 1,
   "metadata": {
    "collapsed": true
   },
   "outputs": [],
   "source": [
    "def verbing(s):\n",
    "    if len(s)>= 3:\n",
    "        if s[-3] != 'ing': s = s + 'ing'\n",
    "        else: s = s + 'ly'\n",
    "    return s"
   ]
  },
  {
   "cell_type": "code",
   "execution_count": 2,
   "metadata": {
    "collapsed": true
   },
   "outputs": [],
   "source": [
    "def not_bad(s):\n",
    "    n = s.find('not')\n",
    "    b = s.find('bad')\n",
    "    if n != -1 and b != -1 and b > n:\n",
    "        s = s[:n] + 'good' + s[b+3:]\n",
    "    return s"
   ]
  },
  {
   "cell_type": "code",
   "execution_count": 3,
   "metadata": {
    "collapsed": false
   },
   "outputs": [],
   "source": [
    "def front_back(a, b):\n",
    "    alength = len(a)\n",
    "    blength = len(b)\n",
    "\n",
    "    if alength % 2 == 0:\n",
    "        aindex = alength // 2\n",
    "    else:\n",
    "        aindex = (alength // 2) + 1\n",
    "\n",
    "    if blength % 2 == 0:\n",
    "        bindex = blength // 2\n",
    "    else:\n",
    "        bindex = (blength // 2) + 1\n",
    "\n",
    "    afront = a[0:aindex]\n",
    "    aback = a[aindex:]\n",
    "\n",
    "    bfront = b[0:bindex]\n",
    "    bback = b[bindex:]\n",
    "\n",
    "    return afront + bfront + aback + bback \n"
   ]
  },
  {
   "cell_type": "code",
   "execution_count": 4,
   "metadata": {
    "collapsed": true
   },
   "outputs": [],
   "source": [
    "def main():\n",
    "    print ('verbing')\n",
    "    test(verbing('hail'), 'hailing')\n",
    "    test(verbing('swiming'), 'swimingly')\n",
    "    test(verbing('do'), 'do')\n",
    "    \n",
    "    print\n",
    "    print ('not_bad') \n",
    "    test(not_bad('This movie is not so bad'), 'This movie is good')\n",
    "    test(not_bad('This dinner is not that bad!'), 'This dinner is good!')\n",
    "    test(not_bad('This tea is not hot'), 'This tea is not hot')\n",
    "    test(not_bad(\"It's bad yet not\"), \"It's bad yet not\")\n",
    "\n",
    "    print\n",
    "    print ('front_back') \n",
    "    test(front_back('abcd', 'xy'), 'abxcdy')\n",
    "    test(front_back('abcde', 'xyz'), 'abcxydez')\n",
    "    test(front_back('Kitten', 'Donut'), 'KitDontenut')\n"
   ]
  },
  {
   "cell_type": "code",
   "execution_count": 7,
   "metadata": {
    "collapsed": false
   },
   "outputs": [
    {
     "name": "stdout",
     "output_type": "stream",
     "text": [
      "verbing\n",
      " OK got: 'hailing' expected: 'hailing'\n",
      "  X got: 'swiminging' expected: 'swimingly'\n",
      " OK got: 'do' expected: 'do'\n",
      "not_bad\n",
      " OK got: 'This movie is good' expected: 'This movie is good'\n",
      " OK got: 'This dinner is good!' expected: 'This dinner is good!'\n",
      " OK got: 'This tea is not hot' expected: 'This tea is not hot'\n",
      " OK got: \"It's bad yet not\" expected: \"It's bad yet not\"\n",
      "front_back\n",
      " OK got: 'abxcdy' expected: 'abxcdy'\n",
      " OK got: 'abcxydez' expected: 'abcxydez'\n",
      " OK got: 'KitDontenut' expected: 'KitDontenut'\n"
     ]
    }
   ],
   "source": [
    "main() "
   ]
  },
  {
   "cell_type": "code",
   "execution_count": null,
   "metadata": {
    "collapsed": true
   },
   "outputs": [],
   "source": []
  }
 ],
 "metadata": {
  "anaconda-cloud": {},
  "kernelspec": {
   "display_name": "Python [default]",
   "language": "python",
   "name": "python3"
  },
  "language_info": {
   "codemirror_mode": {
    "name": "ipython",
    "version": 3
   },
   "file_extension": ".py",
   "mimetype": "text/x-python",
   "name": "python",
   "nbconvert_exporter": "python",
   "pygments_lexer": "ipython3",
   "version": "3.5.2"
  }
 },
 "nbformat": 4,
 "nbformat_minor": 1
}
